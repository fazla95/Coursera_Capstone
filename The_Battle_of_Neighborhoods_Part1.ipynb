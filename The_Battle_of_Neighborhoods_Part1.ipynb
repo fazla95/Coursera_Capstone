{
    "cells": [
        {
            "cell_type": "markdown",
            "metadata": {
                "collapsed": true
            },
            "source": "# Analyzing the Cities' data to open a branch of 'KoFFee'"
        },
        {
            "cell_type": "markdown",
            "metadata": {},
            "source": "## 1. Introduction"
        },
        {
            "cell_type": "markdown",
            "metadata": {},
            "source": "### 1.1 Background"
        },
        {
            "cell_type": "code",
            "execution_count": null,
            "metadata": {},
            "outputs": [],
            "source": "The Coffee shop named 'KoFFee' is a very famous coffee shop in Europe and it was established in\n1900's. Since then it has been successfully running and It has opened its many branchs\naround Europe. As its brand name has a value even outside of the europe, Now it wants to open \nits new branch in Canada. Initially it has two options that are Toronto \ncity or North York. But picking the most suitable city for opening its first branch in Canada \nis actually challenging one. There are many factors to be identified and analyzed around both \ncities and then the decision should be taken. Therefore this study helps it for finding its ideal\nplace to open its first branch in Canada."
        },
        {
            "cell_type": "markdown",
            "metadata": {},
            "source": "### 1.2 Problem"
        },
        {
            "cell_type": "code",
            "execution_count": null,
            "metadata": {},
            "outputs": [],
            "source": "Since Toronto city and North York are twoadministrative cities of Toronto, there are many factors to\nbe analyzed before taking the decison. Therefore this study involves in analyzing the number of \ncoffee shops, cafes, breakfast stops, restaurants and theatres around the neighborhoods of both \ncities and based on the results it suggests a better place for the new branch."
        },
        {
            "cell_type": "markdown",
            "metadata": {},
            "source": "## 2. Data"
        },
        {
            "cell_type": "markdown",
            "metadata": {},
            "source": "### 2.1 Data Source"
        },
        {
            "cell_type": "code",
            "execution_count": null,
            "metadata": {},
            "outputs": [],
            "source": "For the cities' neigbhorhoods data, a Wikipedia page (\"https://en.wikipedia.org/wiki/List_of_postal_codes_of_Canada:_M\") \nthat contains the List of Postal codes of Canada was used. After extracting the neighborhoods of \nToronto city and North York, to get the Latitude and Longitude of pstal code areas, GeoSpatial dataset \n(https://cf-courses-data.s3.us.cloud-object-storage.appdomain.cloud/IBMDeveloperSkillsNetwork-DS0701EN-SkillsNetwork/\nlabs_v1/Geospatial_Coordinates.csv)\nwas used. After finding the location information, Foursquare API was used for analyzing the venues \naround the neighbhorhoods of Toronto city and North York."
        },
        {
            "cell_type": "markdown",
            "metadata": {},
            "source": "### 2.2 Data Cleaning and Preparation"
        },
        {
            "cell_type": "code",
            "execution_count": null,
            "metadata": {},
            "outputs": [],
            "source": "In a dataframe with 3 columns that are Postal Code, Borough and Neighbhorhood, the rows with \nnon assigned borough values were dropped. Then if a postal code area has two or more\ndifferent neighborhoods, those neighbhorhoods were merged in a single row with their \ncorresponding postal code.\n\nFrom GeoSpatial data, Latitude and Longitude of each postal code area were obtained and those \nlocation information was used in Foursquare API."
        }
    ],
    "metadata": {
        "kernelspec": {
            "display_name": "Python 3.7",
            "language": "python",
            "name": "python3"
        },
        "language_info": {
            "codemirror_mode": {
                "name": "ipython",
                "version": 3
            },
            "file_extension": ".py",
            "mimetype": "text/x-python",
            "name": "python",
            "nbconvert_exporter": "python",
            "pygments_lexer": "ipython3",
            "version": "3.7.10"
        }
    },
    "nbformat": 4,
    "nbformat_minor": 1
}