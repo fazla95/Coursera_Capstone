{
    "cells": [
        {
            "cell_type": "markdown",
            "metadata": {},
            "source": "# Analyzing the Cities' data for Suggesting a City to Open a branch of 'KoFFee\u2019 "
        },
        {
            "cell_type": "markdown",
            "metadata": {},
            "source": "## Installing the relevant libraries"
        },
        {
            "cell_type": "code",
            "execution_count": 2,
            "metadata": {},
            "outputs": [
                {
                    "name": "stdout",
                    "output_type": "stream",
                    "text": "/opt/conda/envs/Python-3.7-OpenCE/lib/python3.7/site-packages/secretstorage/dhcrypto.py:16: CryptographyDeprecationWarning: int_from_bytes is deprecated, use int.from_bytes instead\n  from cryptography.utils import int_from_bytes\n/opt/conda/envs/Python-3.7-OpenCE/lib/python3.7/site-packages/secretstorage/util.py:25: CryptographyDeprecationWarning: int_from_bytes is deprecated, use int.from_bytes instead\n  from cryptography.utils import int_from_bytes\nCollecting bs4\n  Downloading bs4-0.0.1.tar.gz (1.1 kB)\nRequirement already satisfied: beautifulsoup4 in /opt/conda/envs/Python-3.7-OpenCE/lib/python3.7/site-packages (from bs4) (4.9.1)\nRequirement already satisfied: soupsieve>1.2 in /opt/conda/envs/Python-3.7-OpenCE/lib/python3.7/site-packages (from beautifulsoup4->bs4) (2.0.1)\nBuilding wheels for collected packages: bs4\n  Building wheel for bs4 (setup.py) ... \u001b[?25ldone\n\u001b[?25h  Created wheel for bs4: filename=bs4-0.0.1-py3-none-any.whl size=1273 sha256=c2085dea02e844bc3336e1b625b3b2e47c9de01cf925b1ec3d84a62a893fa1c9\n  Stored in directory: /tmp/wsuser/.cache/pip/wheels/0a/9e/ba/20e5bbc1afef3a491f0b3bb74d508f99403aabe76eda2167ca\nSuccessfully built bs4\nInstalling collected packages: bs4\nSuccessfully installed bs4-0.0.1\n/opt/conda/envs/Python-3.7-OpenCE/lib/python3.7/site-packages/secretstorage/dhcrypto.py:16: CryptographyDeprecationWarning: int_from_bytes is deprecated, use int.from_bytes instead\n  from cryptography.utils import int_from_bytes\n/opt/conda/envs/Python-3.7-OpenCE/lib/python3.7/site-packages/secretstorage/util.py:25: CryptographyDeprecationWarning: int_from_bytes is deprecated, use int.from_bytes instead\n  from cryptography.utils import int_from_bytes\nRequirement already satisfied: geopy in /opt/conda/envs/Python-3.7-OpenCE/lib/python3.7/site-packages (2.0.0)\nRequirement already satisfied: geographiclib<2,>=1.49 in /opt/conda/envs/Python-3.7-OpenCE/lib/python3.7/site-packages (from geopy) (1.50)\n"
                }
            ],
            "source": "!pip install bs4\n!pip install geopy"
        },
        {
            "cell_type": "markdown",
            "metadata": {},
            "source": "## Importing relevant libraries"
        },
        {
            "cell_type": "code",
            "execution_count": 4,
            "metadata": {},
            "outputs": [],
            "source": "from bs4 import BeautifulSoup \nimport requests    \nimport pandas as pd\nfrom pandas.io.json import json_normalize\nfrom geopy.geocoders import Nominatim"
        },
        {
            "cell_type": "markdown",
            "metadata": {},
            "source": "## Web scrapping"
        },
        {
            "cell_type": "code",
            "execution_count": 5,
            "metadata": {},
            "outputs": [],
            "source": "url = \"https://en.wikipedia.org/wiki/List_of_postal_codes_of_Canada:_M\""
        },
        {
            "cell_type": "code",
            "execution_count": 6,
            "metadata": {},
            "outputs": [],
            "source": "data  = requests.get(url).text \nsoup = BeautifulSoup(data,\"html5lib\")\ntable_contents = []\ntable = soup.find('table')"
        },
        {
            "cell_type": "code",
            "execution_count": 7,
            "metadata": {},
            "outputs": [],
            "source": "for row in table.findAll('td'):\n    cell = {}\n    if row.span.text == 'Not assigned':\n        pass\n    else:\n        cell['PostalCode'] = row.p.text[:3]\n        cell['Borough'] = (row.span.text).split('(')[0]\n        cell['Neighborhood'] = (((((row.span.text).split('(')[1]).strip(')')).replace(' /',',')).replace(')',' ')).strip(' ')\n        table_contents.append(cell)"
        },
        {
            "cell_type": "markdown",
            "metadata": {},
            "source": "## Creating Dataframe"
        },
        {
            "cell_type": "code",
            "execution_count": 8,
            "metadata": {},
            "outputs": [
                {
                    "data": {
                        "text/html": "<div>\n<style scoped>\n    .dataframe tbody tr th:only-of-type {\n        vertical-align: middle;\n    }\n\n    .dataframe tbody tr th {\n        vertical-align: top;\n    }\n\n    .dataframe thead th {\n        text-align: right;\n    }\n</style>\n<table border=\"1\" class=\"dataframe\">\n  <thead>\n    <tr style=\"text-align: right;\">\n      <th></th>\n      <th>PostalCode</th>\n      <th>Borough</th>\n      <th>Neighborhood</th>\n    </tr>\n  </thead>\n  <tbody>\n    <tr>\n      <th>0</th>\n      <td>M3A</td>\n      <td>North York</td>\n      <td>Parkwoods</td>\n    </tr>\n    <tr>\n      <th>1</th>\n      <td>M4A</td>\n      <td>North York</td>\n      <td>Victoria Village</td>\n    </tr>\n    <tr>\n      <th>2</th>\n      <td>M5A</td>\n      <td>Downtown Toronto</td>\n      <td>Regent Park, Harbourfront</td>\n    </tr>\n    <tr>\n      <th>3</th>\n      <td>M6A</td>\n      <td>North York</td>\n      <td>Lawrence Manor, Lawrence Heights</td>\n    </tr>\n    <tr>\n      <th>4</th>\n      <td>M7A</td>\n      <td>Queen's Park</td>\n      <td>Ontario Provincial Government</td>\n    </tr>\n  </tbody>\n</table>\n</div>",
                        "text/plain": "  PostalCode           Borough                      Neighborhood\n0        M3A        North York                         Parkwoods\n1        M4A        North York                  Victoria Village\n2        M5A  Downtown Toronto         Regent Park, Harbourfront\n3        M6A        North York  Lawrence Manor, Lawrence Heights\n4        M7A      Queen's Park     Ontario Provincial Government"
                    },
                    "execution_count": 8,
                    "metadata": {},
                    "output_type": "execute_result"
                }
            ],
            "source": "df = pd.DataFrame(table_contents)\ndf['Borough'] = df['Borough'].replace({'Downtown TorontoStn A PO Boxes25 The Esplanade':'Downtown Toronto Stn A',\n                                             'East TorontoBusiness reply mail Processing Centre969 Eastern':'East Toronto Business',\n                                             'EtobicokeNorthwest':'Etobicoke Northwest','East YorkEast Toronto':'East York/East Toronto',\n                                             'MississaugaCanada Post Gateway Processing Centre':'Mississauga'})\ndf.head()"
        },
        {
            "cell_type": "markdown",
            "metadata": {},
            "source": "## Loading Geospatial data"
        },
        {
            "cell_type": "code",
            "execution_count": 9,
            "metadata": {},
            "outputs": [],
            "source": "gc_df = pd.read_csv(\"https://cf-courses-data.s3.us.cloud-object-storage.appdomain.cloud/IBMDeveloperSkillsNetwork-DS0701EN-SkillsNetwork/labs_v1/Geospatial_Coordinates.csv\")"
        },
        {
            "cell_type": "markdown",
            "metadata": {},
            "source": "## Obtaining latitude and longitude of each postal code"
        },
        {
            "cell_type": "code",
            "execution_count": 11,
            "metadata": {},
            "outputs": [],
            "source": "Lat, Lon = [], []\npcodes = gc_df['Postal Code']\nfor postalcode in df['PostalCode'] : \n    for i, pcode in enumerate (pcodes):\n        if (postalcode == pcode):\n            lat = gc_df['Latitude'][i]\n            lon = gc_df['Longitude'][i]\n            Lat.append(lat)\n            Lon.append(lon)"
        },
        {
            "cell_type": "markdown",
            "metadata": {},
            "source": "## Adding Latitude and Longitude details to the dataframe"
        },
        {
            "cell_type": "code",
            "execution_count": 12,
            "metadata": {},
            "outputs": [
                {
                    "data": {
                        "text/html": "<div>\n<style scoped>\n    .dataframe tbody tr th:only-of-type {\n        vertical-align: middle;\n    }\n\n    .dataframe tbody tr th {\n        vertical-align: top;\n    }\n\n    .dataframe thead th {\n        text-align: right;\n    }\n</style>\n<table border=\"1\" class=\"dataframe\">\n  <thead>\n    <tr style=\"text-align: right;\">\n      <th></th>\n      <th>PostalCode</th>\n      <th>Borough</th>\n      <th>Neighborhood</th>\n      <th>Latitude</th>\n      <th>Longitude</th>\n    </tr>\n  </thead>\n  <tbody>\n    <tr>\n      <th>0</th>\n      <td>M3A</td>\n      <td>North York</td>\n      <td>Parkwoods</td>\n      <td>43.753259</td>\n      <td>-79.329656</td>\n    </tr>\n    <tr>\n      <th>1</th>\n      <td>M4A</td>\n      <td>North York</td>\n      <td>Victoria Village</td>\n      <td>43.725882</td>\n      <td>-79.315572</td>\n    </tr>\n    <tr>\n      <th>2</th>\n      <td>M5A</td>\n      <td>Downtown Toronto</td>\n      <td>Regent Park, Harbourfront</td>\n      <td>43.654260</td>\n      <td>-79.360636</td>\n    </tr>\n    <tr>\n      <th>3</th>\n      <td>M6A</td>\n      <td>North York</td>\n      <td>Lawrence Manor, Lawrence Heights</td>\n      <td>43.718518</td>\n      <td>-79.464763</td>\n    </tr>\n    <tr>\n      <th>4</th>\n      <td>M7A</td>\n      <td>Queen's Park</td>\n      <td>Ontario Provincial Government</td>\n      <td>43.662301</td>\n      <td>-79.389494</td>\n    </tr>\n  </tbody>\n</table>\n</div>",
                        "text/plain": "  PostalCode           Borough                      Neighborhood   Latitude  \\\n0        M3A        North York                         Parkwoods  43.753259   \n1        M4A        North York                  Victoria Village  43.725882   \n2        M5A  Downtown Toronto         Regent Park, Harbourfront  43.654260   \n3        M6A        North York  Lawrence Manor, Lawrence Heights  43.718518   \n4        M7A      Queen's Park     Ontario Provincial Government  43.662301   \n\n   Longitude  \n0 -79.329656  \n1 -79.315572  \n2 -79.360636  \n3 -79.464763  \n4 -79.389494  "
                    },
                    "execution_count": 12,
                    "metadata": {},
                    "output_type": "execute_result"
                }
            ],
            "source": "df['Latitude'] = Lat\ndf['Longitude'] = Lon\ndf.head()"
        },
        {
            "cell_type": "markdown",
            "metadata": {},
            "source": "## Creating a dataframe containing the neighborhoods of Toronto city"
        },
        {
            "cell_type": "code",
            "execution_count": 13,
            "metadata": {},
            "outputs": [
                {
                    "data": {
                        "text/html": "<div>\n<style scoped>\n    .dataframe tbody tr th:only-of-type {\n        vertical-align: middle;\n    }\n\n    .dataframe tbody tr th {\n        vertical-align: top;\n    }\n\n    .dataframe thead th {\n        text-align: right;\n    }\n</style>\n<table border=\"1\" class=\"dataframe\">\n  <thead>\n    <tr style=\"text-align: right;\">\n      <th></th>\n      <th>PostalCode</th>\n      <th>Borough</th>\n      <th>Neighborhood</th>\n      <th>Latitude</th>\n      <th>Longitude</th>\n    </tr>\n  </thead>\n  <tbody>\n    <tr>\n      <th>0</th>\n      <td>M5A</td>\n      <td>Downtown Toronto</td>\n      <td>Regent Park, Harbourfront</td>\n      <td>43.654260</td>\n      <td>-79.360636</td>\n    </tr>\n    <tr>\n      <th>1</th>\n      <td>M5B</td>\n      <td>Downtown Toronto</td>\n      <td>Garden District, Ryerson</td>\n      <td>43.657162</td>\n      <td>-79.378937</td>\n    </tr>\n    <tr>\n      <th>2</th>\n      <td>M5C</td>\n      <td>Downtown Toronto</td>\n      <td>St. James Town</td>\n      <td>43.651494</td>\n      <td>-79.375418</td>\n    </tr>\n    <tr>\n      <th>3</th>\n      <td>M4E</td>\n      <td>East Toronto</td>\n      <td>The Beaches</td>\n      <td>43.676357</td>\n      <td>-79.293031</td>\n    </tr>\n    <tr>\n      <th>4</th>\n      <td>M5E</td>\n      <td>Downtown Toronto</td>\n      <td>Berczy Park</td>\n      <td>43.644771</td>\n      <td>-79.373306</td>\n    </tr>\n    <tr>\n      <th>5</th>\n      <td>M5G</td>\n      <td>Downtown Toronto</td>\n      <td>Central Bay Street</td>\n      <td>43.657952</td>\n      <td>-79.387383</td>\n    </tr>\n    <tr>\n      <th>6</th>\n      <td>M6G</td>\n      <td>Downtown Toronto</td>\n      <td>Christie</td>\n      <td>43.669542</td>\n      <td>-79.422564</td>\n    </tr>\n    <tr>\n      <th>7</th>\n      <td>M5H</td>\n      <td>Downtown Toronto</td>\n      <td>Richmond, Adelaide, King</td>\n      <td>43.650571</td>\n      <td>-79.384568</td>\n    </tr>\n    <tr>\n      <th>8</th>\n      <td>M6H</td>\n      <td>West Toronto</td>\n      <td>Dufferin, Dovercourt Village</td>\n      <td>43.669005</td>\n      <td>-79.442259</td>\n    </tr>\n    <tr>\n      <th>9</th>\n      <td>M4J</td>\n      <td>East York/East Toronto</td>\n      <td>The Danforth  East</td>\n      <td>43.685347</td>\n      <td>-79.338106</td>\n    </tr>\n  </tbody>\n</table>\n</div>",
                        "text/plain": "  PostalCode                 Borough                  Neighborhood   Latitude  \\\n0        M5A        Downtown Toronto     Regent Park, Harbourfront  43.654260   \n1        M5B        Downtown Toronto      Garden District, Ryerson  43.657162   \n2        M5C        Downtown Toronto                St. James Town  43.651494   \n3        M4E            East Toronto                   The Beaches  43.676357   \n4        M5E        Downtown Toronto                   Berczy Park  43.644771   \n5        M5G        Downtown Toronto            Central Bay Street  43.657952   \n6        M6G        Downtown Toronto                      Christie  43.669542   \n7        M5H        Downtown Toronto      Richmond, Adelaide, King  43.650571   \n8        M6H            West Toronto  Dufferin, Dovercourt Village  43.669005   \n9        M4J  East York/East Toronto            The Danforth  East  43.685347   \n\n   Longitude  \n0 -79.360636  \n1 -79.378937  \n2 -79.375418  \n3 -79.293031  \n4 -79.373306  \n5 -79.387383  \n6 -79.422564  \n7 -79.384568  \n8 -79.442259  \n9 -79.338106  "
                    },
                    "execution_count": 13,
                    "metadata": {},
                    "output_type": "execute_result"
                }
            ],
            "source": "index_toronto = []\n\nfor i, borough in enumerate (df['Borough']):\n    if 'Toronto' in borough :\n        index_toronto.append(i)\n\ntoronto = df.iloc[index_toronto]\n\ntoronto.reset_index(drop=True, inplace=True)\n\ntoronto.head(10)"
        },
        {
            "cell_type": "markdown",
            "metadata": {},
            "source": "## Creating a dataframe containing the neighborhoods of North york"
        },
        {
            "cell_type": "code",
            "execution_count": 14,
            "metadata": {},
            "outputs": [
                {
                    "data": {
                        "text/html": "<div>\n<style scoped>\n    .dataframe tbody tr th:only-of-type {\n        vertical-align: middle;\n    }\n\n    .dataframe tbody tr th {\n        vertical-align: top;\n    }\n\n    .dataframe thead th {\n        text-align: right;\n    }\n</style>\n<table border=\"1\" class=\"dataframe\">\n  <thead>\n    <tr style=\"text-align: right;\">\n      <th></th>\n      <th>PostalCode</th>\n      <th>Borough</th>\n      <th>Neighborhood</th>\n      <th>Latitude</th>\n      <th>Longitude</th>\n    </tr>\n  </thead>\n  <tbody>\n    <tr>\n      <th>0</th>\n      <td>M3A</td>\n      <td>North York</td>\n      <td>Parkwoods</td>\n      <td>43.753259</td>\n      <td>-79.329656</td>\n    </tr>\n    <tr>\n      <th>1</th>\n      <td>M4A</td>\n      <td>North York</td>\n      <td>Victoria Village</td>\n      <td>43.725882</td>\n      <td>-79.315572</td>\n    </tr>\n    <tr>\n      <th>2</th>\n      <td>M6A</td>\n      <td>North York</td>\n      <td>Lawrence Manor, Lawrence Heights</td>\n      <td>43.718518</td>\n      <td>-79.464763</td>\n    </tr>\n    <tr>\n      <th>3</th>\n      <td>M3B</td>\n      <td>North York</td>\n      <td>Don Mills North</td>\n      <td>43.745906</td>\n      <td>-79.352188</td>\n    </tr>\n    <tr>\n      <th>4</th>\n      <td>M6B</td>\n      <td>North York</td>\n      <td>Glencairn</td>\n      <td>43.709577</td>\n      <td>-79.445073</td>\n    </tr>\n    <tr>\n      <th>5</th>\n      <td>M3C</td>\n      <td>North York</td>\n      <td>Don Mills South</td>\n      <td>43.725900</td>\n      <td>-79.340923</td>\n    </tr>\n    <tr>\n      <th>6</th>\n      <td>M2H</td>\n      <td>North York</td>\n      <td>Hillcrest Village</td>\n      <td>43.803762</td>\n      <td>-79.363452</td>\n    </tr>\n    <tr>\n      <th>7</th>\n      <td>M3H</td>\n      <td>North York</td>\n      <td>Bathurst Manor, Wilson Heights, Downsview North</td>\n      <td>43.754328</td>\n      <td>-79.442259</td>\n    </tr>\n    <tr>\n      <th>8</th>\n      <td>M2J</td>\n      <td>North York</td>\n      <td>Fairview, Henry Farm, Oriole</td>\n      <td>43.778517</td>\n      <td>-79.346556</td>\n    </tr>\n    <tr>\n      <th>9</th>\n      <td>M3J</td>\n      <td>North York</td>\n      <td>Northwood Park, York University</td>\n      <td>43.767980</td>\n      <td>-79.487262</td>\n    </tr>\n  </tbody>\n</table>\n</div>",
                        "text/plain": "  PostalCode     Borough                                     Neighborhood  \\\n0        M3A  North York                                        Parkwoods   \n1        M4A  North York                                 Victoria Village   \n2        M6A  North York                 Lawrence Manor, Lawrence Heights   \n3        M3B  North York                                  Don Mills North   \n4        M6B  North York                                        Glencairn   \n5        M3C  North York                                  Don Mills South   \n6        M2H  North York                                Hillcrest Village   \n7        M3H  North York  Bathurst Manor, Wilson Heights, Downsview North   \n8        M2J  North York                     Fairview, Henry Farm, Oriole   \n9        M3J  North York                  Northwood Park, York University   \n\n    Latitude  Longitude  \n0  43.753259 -79.329656  \n1  43.725882 -79.315572  \n2  43.718518 -79.464763  \n3  43.745906 -79.352188  \n4  43.709577 -79.445073  \n5  43.725900 -79.340923  \n6  43.803762 -79.363452  \n7  43.754328 -79.442259  \n8  43.778517 -79.346556  \n9  43.767980 -79.487262  "
                    },
                    "execution_count": 14,
                    "metadata": {},
                    "output_type": "execute_result"
                }
            ],
            "source": "index_north_york = []\n\nfor i, borough in enumerate (df['Borough']):\n    if 'North York' in borough :\n        index_north_york.append(i)\n\nnorth_york = df.iloc[index_north_york]\n\nnorth_york.reset_index(drop=True, inplace=True)\n\nnorth_york.head(10)"
        },
        {
            "cell_type": "markdown",
            "metadata": {},
            "source": "## Creating a function that returns 100 venues of each neighborhood"
        },
        {
            "cell_type": "code",
            "execution_count": 15,
            "metadata": {},
            "outputs": [],
            "source": "def getNearbyVenues(names, latitudes, longitudes, radius=500):\n    \n    venues_list=[]\n    for name, lat, lng in zip(names, latitudes, longitudes):\n            \n        url = 'https://api.foursquare.com/v2/venues/explore?&client_id={}&client_secret={}&v={}&ll={},{}&radius={}&limit={}'.format(\n            CLIENT_ID, \n            CLIENT_SECRET, \n            VERSION, \n            lat, \n            lng, \n            radius, \n            LIMIT)\n            \n        results = requests.get(url).json()[\"response\"]['groups'][0]['items']\n       \n        venues_list.append([(\n            name, \n            lat, \n            lng, \n            v['venue']['name'], \n            v['venue']['location']['lat'], \n            v['venue']['location']['lng'],   \n            v['venue']['categories'][0]['name']) for v in results])\n\n    nearby_venues = pd.DataFrame([item for venue_list in venues_list for item in venue_list])\n    nearby_venues.columns = ['Neighborhood', \n                  'Neighborhood Latitude', \n                  'Neighborhood Longitude', \n                  'Venue', \n                  'Venue Latitude', \n                  'Venue Longitude', \n                  'Venue Category']\n    \n    return(nearby_venues)"
        },
        {
            "cell_type": "code",
            "execution_count": 16,
            "metadata": {},
            "outputs": [],
            "source": "# The code was removed by Watson Studio for sharing."
        },
        {
            "cell_type": "code",
            "execution_count": 17,
            "metadata": {},
            "outputs": [],
            "source": "# Defining the number of venues\nLIMIT = 100\n\n# Defining the radius\nradius = 500"
        },
        {
            "cell_type": "markdown",
            "metadata": {},
            "source": "## Obtaining the venues of each neighborhood of Toronto city "
        },
        {
            "cell_type": "code",
            "execution_count": 18,
            "metadata": {},
            "outputs": [],
            "source": "toronto_venues = getNearbyVenues(names=toronto['Neighborhood'],\n                                   latitudes=toronto['Latitude'],\n                                   longitudes=toronto['Longitude'])"
        },
        {
            "cell_type": "code",
            "execution_count": 19,
            "metadata": {},
            "outputs": [
                {
                    "data": {
                        "text/html": "<div>\n<style scoped>\n    .dataframe tbody tr th:only-of-type {\n        vertical-align: middle;\n    }\n\n    .dataframe tbody tr th {\n        vertical-align: top;\n    }\n\n    .dataframe thead th {\n        text-align: right;\n    }\n</style>\n<table border=\"1\" class=\"dataframe\">\n  <thead>\n    <tr style=\"text-align: right;\">\n      <th></th>\n      <th>Neighborhood</th>\n      <th>Neighborhood Latitude</th>\n      <th>Neighborhood Longitude</th>\n      <th>Venue</th>\n      <th>Venue Latitude</th>\n      <th>Venue Longitude</th>\n      <th>Venue Category</th>\n    </tr>\n  </thead>\n  <tbody>\n    <tr>\n      <th>0</th>\n      <td>Regent Park, Harbourfront</td>\n      <td>43.65426</td>\n      <td>-79.360636</td>\n      <td>Roselle Desserts</td>\n      <td>43.653447</td>\n      <td>-79.362017</td>\n      <td>Bakery</td>\n    </tr>\n    <tr>\n      <th>1</th>\n      <td>Regent Park, Harbourfront</td>\n      <td>43.65426</td>\n      <td>-79.360636</td>\n      <td>Tandem Coffee</td>\n      <td>43.653559</td>\n      <td>-79.361809</td>\n      <td>Coffee Shop</td>\n    </tr>\n    <tr>\n      <th>2</th>\n      <td>Regent Park, Harbourfront</td>\n      <td>43.65426</td>\n      <td>-79.360636</td>\n      <td>Cooper Koo Family YMCA</td>\n      <td>43.653249</td>\n      <td>-79.358008</td>\n      <td>Distribution Center</td>\n    </tr>\n    <tr>\n      <th>3</th>\n      <td>Regent Park, Harbourfront</td>\n      <td>43.65426</td>\n      <td>-79.360636</td>\n      <td>Impact Kitchen</td>\n      <td>43.656369</td>\n      <td>-79.356980</td>\n      <td>Restaurant</td>\n    </tr>\n    <tr>\n      <th>4</th>\n      <td>Regent Park, Harbourfront</td>\n      <td>43.65426</td>\n      <td>-79.360636</td>\n      <td>Body Blitz Spa East</td>\n      <td>43.654735</td>\n      <td>-79.359874</td>\n      <td>Spa</td>\n    </tr>\n    <tr>\n      <th>5</th>\n      <td>Regent Park, Harbourfront</td>\n      <td>43.65426</td>\n      <td>-79.360636</td>\n      <td>Corktown Common</td>\n      <td>43.655618</td>\n      <td>-79.356211</td>\n      <td>Park</td>\n    </tr>\n    <tr>\n      <th>6</th>\n      <td>Regent Park, Harbourfront</td>\n      <td>43.65426</td>\n      <td>-79.360636</td>\n      <td>The Extension Room</td>\n      <td>43.653313</td>\n      <td>-79.359725</td>\n      <td>Gym / Fitness Center</td>\n    </tr>\n    <tr>\n      <th>7</th>\n      <td>Regent Park, Harbourfront</td>\n      <td>43.65426</td>\n      <td>-79.360636</td>\n      <td>The Distillery Historic District</td>\n      <td>43.650244</td>\n      <td>-79.359323</td>\n      <td>Historic Site</td>\n    </tr>\n    <tr>\n      <th>8</th>\n      <td>Regent Park, Harbourfront</td>\n      <td>43.65426</td>\n      <td>-79.360636</td>\n      <td>SOMA chocolatemaker</td>\n      <td>43.650622</td>\n      <td>-79.358127</td>\n      <td>Chocolate Shop</td>\n    </tr>\n    <tr>\n      <th>9</th>\n      <td>Regent Park, Harbourfront</td>\n      <td>43.65426</td>\n      <td>-79.360636</td>\n      <td>Dominion Pub and Kitchen</td>\n      <td>43.656919</td>\n      <td>-79.358967</td>\n      <td>Pub</td>\n    </tr>\n  </tbody>\n</table>\n</div>",
                        "text/plain": "                Neighborhood  Neighborhood Latitude  Neighborhood Longitude  \\\n0  Regent Park, Harbourfront               43.65426              -79.360636   \n1  Regent Park, Harbourfront               43.65426              -79.360636   \n2  Regent Park, Harbourfront               43.65426              -79.360636   \n3  Regent Park, Harbourfront               43.65426              -79.360636   \n4  Regent Park, Harbourfront               43.65426              -79.360636   \n5  Regent Park, Harbourfront               43.65426              -79.360636   \n6  Regent Park, Harbourfront               43.65426              -79.360636   \n7  Regent Park, Harbourfront               43.65426              -79.360636   \n8  Regent Park, Harbourfront               43.65426              -79.360636   \n9  Regent Park, Harbourfront               43.65426              -79.360636   \n\n                              Venue  Venue Latitude  Venue Longitude  \\\n0                  Roselle Desserts       43.653447       -79.362017   \n1                     Tandem Coffee       43.653559       -79.361809   \n2            Cooper Koo Family YMCA       43.653249       -79.358008   \n3                    Impact Kitchen       43.656369       -79.356980   \n4               Body Blitz Spa East       43.654735       -79.359874   \n5                   Corktown Common       43.655618       -79.356211   \n6                The Extension Room       43.653313       -79.359725   \n7  The Distillery Historic District       43.650244       -79.359323   \n8               SOMA chocolatemaker       43.650622       -79.358127   \n9          Dominion Pub and Kitchen       43.656919       -79.358967   \n\n         Venue Category  \n0                Bakery  \n1           Coffee Shop  \n2   Distribution Center  \n3            Restaurant  \n4                   Spa  \n5                  Park  \n6  Gym / Fitness Center  \n7         Historic Site  \n8        Chocolate Shop  \n9                   Pub  "
                    },
                    "execution_count": 19,
                    "metadata": {},
                    "output_type": "execute_result"
                }
            ],
            "source": "toronto_venues.head(10)"
        },
        {
            "cell_type": "markdown",
            "metadata": {},
            "source": "## Obtaining the venues of each neighborhood of North york"
        },
        {
            "cell_type": "code",
            "execution_count": 20,
            "metadata": {},
            "outputs": [],
            "source": "north_york_venues = getNearbyVenues(names=north_york['Neighborhood'],\n                                   latitudes=north_york['Latitude'],\n                                   longitudes=north_york['Longitude'])"
        },
        {
            "cell_type": "code",
            "execution_count": 21,
            "metadata": {},
            "outputs": [
                {
                    "data": {
                        "text/html": "<div>\n<style scoped>\n    .dataframe tbody tr th:only-of-type {\n        vertical-align: middle;\n    }\n\n    .dataframe tbody tr th {\n        vertical-align: top;\n    }\n\n    .dataframe thead th {\n        text-align: right;\n    }\n</style>\n<table border=\"1\" class=\"dataframe\">\n  <thead>\n    <tr style=\"text-align: right;\">\n      <th></th>\n      <th>Neighborhood</th>\n      <th>Neighborhood Latitude</th>\n      <th>Neighborhood Longitude</th>\n      <th>Venue</th>\n      <th>Venue Latitude</th>\n      <th>Venue Longitude</th>\n      <th>Venue Category</th>\n    </tr>\n  </thead>\n  <tbody>\n    <tr>\n      <th>0</th>\n      <td>Parkwoods</td>\n      <td>43.753259</td>\n      <td>-79.329656</td>\n      <td>Brookbanks Park</td>\n      <td>43.751976</td>\n      <td>-79.332140</td>\n      <td>Park</td>\n    </tr>\n    <tr>\n      <th>1</th>\n      <td>Parkwoods</td>\n      <td>43.753259</td>\n      <td>-79.329656</td>\n      <td>KFC</td>\n      <td>43.754387</td>\n      <td>-79.333021</td>\n      <td>Fast Food Restaurant</td>\n    </tr>\n    <tr>\n      <th>2</th>\n      <td>Parkwoods</td>\n      <td>43.753259</td>\n      <td>-79.329656</td>\n      <td>Variety Store</td>\n      <td>43.751974</td>\n      <td>-79.333114</td>\n      <td>Food &amp; Drink Shop</td>\n    </tr>\n    <tr>\n      <th>3</th>\n      <td>Victoria Village</td>\n      <td>43.725882</td>\n      <td>-79.315572</td>\n      <td>Victoria Village Arena</td>\n      <td>43.723481</td>\n      <td>-79.315635</td>\n      <td>Hockey Arena</td>\n    </tr>\n    <tr>\n      <th>4</th>\n      <td>Victoria Village</td>\n      <td>43.725882</td>\n      <td>-79.315572</td>\n      <td>Tim Hortons</td>\n      <td>43.725517</td>\n      <td>-79.313103</td>\n      <td>Coffee Shop</td>\n    </tr>\n    <tr>\n      <th>5</th>\n      <td>Victoria Village</td>\n      <td>43.725882</td>\n      <td>-79.315572</td>\n      <td>Portugril</td>\n      <td>43.725819</td>\n      <td>-79.312785</td>\n      <td>Portuguese Restaurant</td>\n    </tr>\n    <tr>\n      <th>6</th>\n      <td>Victoria Village</td>\n      <td>43.725882</td>\n      <td>-79.315572</td>\n      <td>Eglinton Ave E &amp; Sloane Ave/Bermondsey Rd</td>\n      <td>43.726086</td>\n      <td>-79.313620</td>\n      <td>Intersection</td>\n    </tr>\n    <tr>\n      <th>7</th>\n      <td>Victoria Village</td>\n      <td>43.725882</td>\n      <td>-79.315572</td>\n      <td>Pizza Nova</td>\n      <td>43.725824</td>\n      <td>-79.312860</td>\n      <td>Pizza Place</td>\n    </tr>\n    <tr>\n      <th>8</th>\n      <td>Lawrence Manor, Lawrence Heights</td>\n      <td>43.718518</td>\n      <td>-79.464763</td>\n      <td>Roots</td>\n      <td>43.718214</td>\n      <td>-79.463893</td>\n      <td>Boutique</td>\n    </tr>\n    <tr>\n      <th>9</th>\n      <td>Lawrence Manor, Lawrence Heights</td>\n      <td>43.718518</td>\n      <td>-79.464763</td>\n      <td>Kitchen Stuff Plus (Clearance Outlet)</td>\n      <td>43.719096</td>\n      <td>-79.462675</td>\n      <td>Furniture / Home Store</td>\n    </tr>\n  </tbody>\n</table>\n</div>",
                        "text/plain": "                       Neighborhood  Neighborhood Latitude  \\\n0                         Parkwoods              43.753259   \n1                         Parkwoods              43.753259   \n2                         Parkwoods              43.753259   \n3                  Victoria Village              43.725882   \n4                  Victoria Village              43.725882   \n5                  Victoria Village              43.725882   \n6                  Victoria Village              43.725882   \n7                  Victoria Village              43.725882   \n8  Lawrence Manor, Lawrence Heights              43.718518   \n9  Lawrence Manor, Lawrence Heights              43.718518   \n\n   Neighborhood Longitude                                      Venue  \\\n0              -79.329656                            Brookbanks Park   \n1              -79.329656                                        KFC   \n2              -79.329656                              Variety Store   \n3              -79.315572                     Victoria Village Arena   \n4              -79.315572                                Tim Hortons   \n5              -79.315572                                  Portugril   \n6              -79.315572  Eglinton Ave E & Sloane Ave/Bermondsey Rd   \n7              -79.315572                                 Pizza Nova   \n8              -79.464763                                      Roots   \n9              -79.464763      Kitchen Stuff Plus (Clearance Outlet)   \n\n   Venue Latitude  Venue Longitude          Venue Category  \n0       43.751976       -79.332140                    Park  \n1       43.754387       -79.333021    Fast Food Restaurant  \n2       43.751974       -79.333114       Food & Drink Shop  \n3       43.723481       -79.315635            Hockey Arena  \n4       43.725517       -79.313103             Coffee Shop  \n5       43.725819       -79.312785   Portuguese Restaurant  \n6       43.726086       -79.313620            Intersection  \n7       43.725824       -79.312860             Pizza Place  \n8       43.718214       -79.463893                Boutique  \n9       43.719096       -79.462675  Furniture / Home Store  "
                    },
                    "execution_count": 21,
                    "metadata": {},
                    "output_type": "execute_result"
                }
            ],
            "source": "north_york_venues.head(10)"
        },
        {
            "cell_type": "markdown",
            "metadata": {},
            "source": "## Grouping the data using Venue category"
        },
        {
            "cell_type": "code",
            "execution_count": 22,
            "metadata": {},
            "outputs": [],
            "source": "toronto_cat_values = toronto_venues['Venue Category'].value_counts().to_list()\ntoronto_cat_index = toronto_venues['Venue Category'].value_counts().index.to_list()\ntoronto_venue_cat = pd.DataFrame({'Venue Category' : toronto_cat_index, 'Total': toronto_cat_values})"
        },
        {
            "cell_type": "code",
            "execution_count": 23,
            "metadata": {},
            "outputs": [],
            "source": "ny_cat_values = north_york_venues['Venue Category'].value_counts().to_list()\nny_cat_index = north_york_venues['Venue Category'].value_counts().index.to_list()\nny_venue_cat = pd.DataFrame({'Venue Category' : ny_cat_index, 'Total': ny_cat_values})"
        },
        {
            "cell_type": "markdown",
            "metadata": {},
            "source": "## Extracting the total number of Coffee shops, Restaurants and cafes"
        },
        {
            "cell_type": "code",
            "execution_count": 25,
            "metadata": {},
            "outputs": [],
            "source": "list = ['Coffee Shop', 'Restaurant', 'Caf\u00e9']"
        },
        {
            "cell_type": "code",
            "execution_count": 26,
            "metadata": {},
            "outputs": [
                {
                    "data": {
                        "text/html": "<div>\n<style scoped>\n    .dataframe tbody tr th:only-of-type {\n        vertical-align: middle;\n    }\n\n    .dataframe tbody tr th {\n        vertical-align: top;\n    }\n\n    .dataframe thead th {\n        text-align: right;\n    }\n</style>\n<table border=\"1\" class=\"dataframe\">\n  <thead>\n    <tr style=\"text-align: right;\">\n      <th></th>\n      <th>Venue Category</th>\n      <th>Total</th>\n    </tr>\n  </thead>\n  <tbody>\n    <tr>\n      <th>0</th>\n      <td>Coffee Shop</td>\n      <td>145</td>\n    </tr>\n    <tr>\n      <th>1</th>\n      <td>Caf\u00e9</td>\n      <td>84</td>\n    </tr>\n    <tr>\n      <th>2</th>\n      <td>Restaurant</td>\n      <td>54</td>\n    </tr>\n  </tbody>\n</table>\n</div>",
                        "text/plain": "  Venue Category  Total\n0    Coffee Shop    145\n1           Caf\u00e9     84\n2     Restaurant     54"
                    },
                    "execution_count": 26,
                    "metadata": {},
                    "output_type": "execute_result"
                }
            ],
            "source": "toronto1 = toronto_venue_cat.loc[toronto_venue_cat['Venue Category'].isin(list)]\ntoronto1.head()"
        },
        {
            "cell_type": "code",
            "execution_count": 27,
            "metadata": {},
            "outputs": [
                {
                    "data": {
                        "text/html": "<div>\n<style scoped>\n    .dataframe tbody tr th:only-of-type {\n        vertical-align: middle;\n    }\n\n    .dataframe tbody tr th {\n        vertical-align: top;\n    }\n\n    .dataframe thead th {\n        text-align: right;\n    }\n</style>\n<table border=\"1\" class=\"dataframe\">\n  <thead>\n    <tr style=\"text-align: right;\">\n      <th></th>\n      <th>Venue Category</th>\n      <th>Total</th>\n    </tr>\n  </thead>\n  <tbody>\n    <tr>\n      <th>0</th>\n      <td>Coffee Shop</td>\n      <td>18</td>\n    </tr>\n    <tr>\n      <th>2</th>\n      <td>Restaurant</td>\n      <td>9</td>\n    </tr>\n    <tr>\n      <th>9</th>\n      <td>Caf\u00e9</td>\n      <td>6</td>\n    </tr>\n  </tbody>\n</table>\n</div>",
                        "text/plain": "  Venue Category  Total\n0    Coffee Shop     18\n2     Restaurant      9\n9           Caf\u00e9      6"
                    },
                    "execution_count": 27,
                    "metadata": {},
                    "output_type": "execute_result"
                }
            ],
            "source": "ny2 = ny_venue_cat.loc[ny_venue_cat['Venue Category'].isin(list)]\nny2.head()"
        },
        {
            "cell_type": "markdown",
            "metadata": {},
            "source": "## Combining those two dataframes"
        },
        {
            "cell_type": "code",
            "execution_count": 28,
            "metadata": {},
            "outputs": [],
            "source": "cat_list = toronto1['Venue Category'].tolist()\ntotal_toronto = toronto1['Total'].tolist()\ntotal_ny = ny2['Total'].tolist()"
        },
        {
            "cell_type": "code",
            "execution_count": 30,
            "metadata": {},
            "outputs": [
                {
                    "data": {
                        "text/html": "<div>\n<style scoped>\n    .dataframe tbody tr th:only-of-type {\n        vertical-align: middle;\n    }\n\n    .dataframe tbody tr th {\n        vertical-align: top;\n    }\n\n    .dataframe thead th {\n        text-align: right;\n    }\n</style>\n<table border=\"1\" class=\"dataframe\">\n  <thead>\n    <tr style=\"text-align: right;\">\n      <th></th>\n      <th>Venue Category</th>\n      <th>Toronto City</th>\n      <th>North York</th>\n    </tr>\n  </thead>\n  <tbody>\n    <tr>\n      <th>0</th>\n      <td>Coffee Shop</td>\n      <td>145</td>\n      <td>18</td>\n    </tr>\n    <tr>\n      <th>1</th>\n      <td>Caf\u00e9</td>\n      <td>84</td>\n      <td>9</td>\n    </tr>\n    <tr>\n      <th>2</th>\n      <td>Restaurant</td>\n      <td>54</td>\n      <td>6</td>\n    </tr>\n  </tbody>\n</table>\n</div>",
                        "text/plain": "  Venue Category  Toronto City  North York\n0    Coffee Shop           145          18\n1           Caf\u00e9            84           9\n2     Restaurant            54           6"
                    },
                    "execution_count": 30,
                    "metadata": {},
                    "output_type": "execute_result"
                }
            ],
            "source": "data = pd.DataFrame({'Venue Category': cat_list, 'Toronto City' : total_toronto, 'North York': total_ny})\ndata.head()"
        },
        {
            "cell_type": "markdown",
            "metadata": {},
            "source": "## Visualizing the results"
        },
        {
            "cell_type": "code",
            "execution_count": 31,
            "metadata": {},
            "outputs": [
                {
                    "data": {
                        "text/plain": "<matplotlib.axes._subplots.AxesSubplot at 0x7f9546ce9e10>"
                    },
                    "execution_count": 31,
                    "metadata": {},
                    "output_type": "execute_result"
                },
                {
                    "data": {
                        "image/png": "[encoded data removed]",
                        "text/plain": "<Figure size 432x288 with 1 Axes>"
                    },
                    "metadata": {
                        "needs_background": "light"
                    },
                    "output_type": "display_data"
                }
            ],
            "source": "data.plot.barh(x='Venue Category')"
        },
        {
            "cell_type": "code",
            "execution_count": null,
            "metadata": {},
            "outputs": [],
            "source": ""
        }
    ],
    "metadata": {
        "kernelspec": {
            "display_name": "Python 3.7",
            "language": "python",
            "name": "python3"
        },
        "language_info": {
            "codemirror_mode": {
                "name": "ipython",
                "version": 3
            },
            "file_extension": ".py",
            "mimetype": "text/x-python",
            "name": "python",
            "nbconvert_exporter": "python",
            "pygments_lexer": "ipython3",
            "version": "3.7.10"
        }
    },
    "nbformat": 4,
    "nbformat_minor": 1
}